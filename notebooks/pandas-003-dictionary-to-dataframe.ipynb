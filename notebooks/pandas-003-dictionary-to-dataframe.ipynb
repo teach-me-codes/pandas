{
 "cells": [
  {
   "cell_type": "markdown",
   "metadata": {},
   "source": [
    "# How to create a pandas ```DataFrame``` from a Python dictionary?\n"
   ]
  },
  {
   "cell_type": "code",
   "execution_count": 1,
   "metadata": {},
   "outputs": [],
   "source": [
    "import pandas as pd\n",
    "import random as random"
   ]
  },
  {
   "cell_type": "markdown",
   "metadata": {},
   "source": [
    "Here we will create a list with collection of dictionaries. Each of the dictionary will have keys and values. Using this list of dictionaries, we will create another ```DataFrame```. The keys of the dictionary will serve as the column names."
   ]
  },
  {
   "cell_type": "code",
   "execution_count": 11,
   "metadata": {},
   "outputs": [],
   "source": [
    "letters = [\"A\",\"B\",\"C\",\"D\",\"X\",\"Y\",\"Z\"]\n",
    "numbers = [str(i) for i in range(100)]"
   ]
  },
  {
   "cell_type": "code",
   "execution_count": 12,
   "metadata": {},
   "outputs": [],
   "source": [
    "LD = []\n",
    "for i in range(100):\n",
    "    LD.append({'Player' : random.choice(letters) + \\\n",
    "                         random.choice(numbers),\\\n",
    "               'game1' : random.uniform(0,1),\\\n",
    "               'game2' : random.uniform(0,1),\\\n",
    "               'game3' : random.uniform(0,1),\n",
    "               'game4' : random.uniform(0,1),\n",
    "               'game5' : random.uniform(0,1)})"
   ]
  },
  {
   "cell_type": "code",
   "execution_count": 13,
   "metadata": {},
   "outputs": [
    {
     "data": {
      "text/plain": [
       "{'Player': 'A12',\n",
       " 'game1': 0.43274243150022507,\n",
       " 'game2': 0.7110168117205182,\n",
       " 'game3': 0.316893910993688,\n",
       " 'game4': 0.9550422169202661,\n",
       " 'game5': 0.9126701174507769}"
      ]
     },
     "execution_count": 13,
     "metadata": {},
     "output_type": "execute_result"
    }
   ],
   "source": [
    "LD[0]"
   ]
  },
  {
   "cell_type": "code",
   "execution_count": 14,
   "metadata": {},
   "outputs": [],
   "source": [
    "DF = pd.DataFrame(LD)\n",
    "DF=DF.set_index(\"Player\")"
   ]
  },
  {
   "cell_type": "code",
   "execution_count": 15,
   "metadata": {},
   "outputs": [
    {
     "data": {
      "text/html": [
       "<div>\n",
       "<style scoped>\n",
       "    .dataframe tbody tr th:only-of-type {\n",
       "        vertical-align: middle;\n",
       "    }\n",
       "\n",
       "    .dataframe tbody tr th {\n",
       "        vertical-align: top;\n",
       "    }\n",
       "\n",
       "    .dataframe thead th {\n",
       "        text-align: right;\n",
       "    }\n",
       "</style>\n",
       "<table border=\"1\" class=\"dataframe\">\n",
       "  <thead>\n",
       "    <tr style=\"text-align: right;\">\n",
       "      <th></th>\n",
       "      <th>game1</th>\n",
       "      <th>game2</th>\n",
       "      <th>game3</th>\n",
       "      <th>game4</th>\n",
       "      <th>game5</th>\n",
       "    </tr>\n",
       "    <tr>\n",
       "      <th>Player</th>\n",
       "      <th></th>\n",
       "      <th></th>\n",
       "      <th></th>\n",
       "      <th></th>\n",
       "      <th></th>\n",
       "    </tr>\n",
       "  </thead>\n",
       "  <tbody>\n",
       "    <tr>\n",
       "      <th>A12</th>\n",
       "      <td>0.432742</td>\n",
       "      <td>0.711017</td>\n",
       "      <td>0.316894</td>\n",
       "      <td>0.955042</td>\n",
       "      <td>0.912670</td>\n",
       "    </tr>\n",
       "    <tr>\n",
       "      <th>X62</th>\n",
       "      <td>0.725867</td>\n",
       "      <td>0.179825</td>\n",
       "      <td>0.527084</td>\n",
       "      <td>0.096326</td>\n",
       "      <td>0.583951</td>\n",
       "    </tr>\n",
       "    <tr>\n",
       "      <th>C12</th>\n",
       "      <td>0.737120</td>\n",
       "      <td>0.384927</td>\n",
       "      <td>0.937048</td>\n",
       "      <td>0.162953</td>\n",
       "      <td>0.763683</td>\n",
       "    </tr>\n",
       "    <tr>\n",
       "      <th>Y92</th>\n",
       "      <td>0.218120</td>\n",
       "      <td>0.524966</td>\n",
       "      <td>0.785313</td>\n",
       "      <td>0.526884</td>\n",
       "      <td>0.169031</td>\n",
       "    </tr>\n",
       "    <tr>\n",
       "      <th>A98</th>\n",
       "      <td>0.894978</td>\n",
       "      <td>0.406624</td>\n",
       "      <td>0.947015</td>\n",
       "      <td>0.851915</td>\n",
       "      <td>0.756420</td>\n",
       "    </tr>\n",
       "    <tr>\n",
       "      <th>D50</th>\n",
       "      <td>0.381007</td>\n",
       "      <td>0.428710</td>\n",
       "      <td>0.240440</td>\n",
       "      <td>0.712284</td>\n",
       "      <td>0.594316</td>\n",
       "    </tr>\n",
       "    <tr>\n",
       "      <th>D5</th>\n",
       "      <td>0.943026</td>\n",
       "      <td>0.739171</td>\n",
       "      <td>0.453007</td>\n",
       "      <td>0.336399</td>\n",
       "      <td>0.790958</td>\n",
       "    </tr>\n",
       "    <tr>\n",
       "      <th>B36</th>\n",
       "      <td>0.809476</td>\n",
       "      <td>0.400809</td>\n",
       "      <td>0.373772</td>\n",
       "      <td>0.178760</td>\n",
       "      <td>0.220170</td>\n",
       "    </tr>\n",
       "    <tr>\n",
       "      <th>A53</th>\n",
       "      <td>0.585857</td>\n",
       "      <td>0.981373</td>\n",
       "      <td>0.835294</td>\n",
       "      <td>0.935015</td>\n",
       "      <td>0.383818</td>\n",
       "    </tr>\n",
       "    <tr>\n",
       "      <th>A36</th>\n",
       "      <td>0.875943</td>\n",
       "      <td>0.279313</td>\n",
       "      <td>0.082648</td>\n",
       "      <td>0.738557</td>\n",
       "      <td>0.302721</td>\n",
       "    </tr>\n",
       "  </tbody>\n",
       "</table>\n",
       "</div>"
      ],
      "text/plain": [
       "           game1     game2     game3     game4     game5\n",
       "Player                                                  \n",
       "A12     0.432742  0.711017  0.316894  0.955042  0.912670\n",
       "X62     0.725867  0.179825  0.527084  0.096326  0.583951\n",
       "C12     0.737120  0.384927  0.937048  0.162953  0.763683\n",
       "Y92     0.218120  0.524966  0.785313  0.526884  0.169031\n",
       "A98     0.894978  0.406624  0.947015  0.851915  0.756420\n",
       "D50     0.381007  0.428710  0.240440  0.712284  0.594316\n",
       "D5      0.943026  0.739171  0.453007  0.336399  0.790958\n",
       "B36     0.809476  0.400809  0.373772  0.178760  0.220170\n",
       "A53     0.585857  0.981373  0.835294  0.935015  0.383818\n",
       "A36     0.875943  0.279313  0.082648  0.738557  0.302721"
      ]
     },
     "execution_count": 15,
     "metadata": {},
     "output_type": "execute_result"
    }
   ],
   "source": [
    "DF.head(10)"
   ]
  },
  {
   "cell_type": "markdown",
   "metadata": {},
   "source": [
    "# How to create a pandas ```DataFrame``` from a Python List?\n",
    "\n",
    "We can start from blank ```Dataframe``` object and populate the columns with ```list``` of items. Lets first create some python list. Before that we will prepare letters and number list."
   ]
  },
  {
   "cell_type": "code",
   "execution_count": 23,
   "metadata": {},
   "outputs": [],
   "source": [
    "letters = [\"A\",\"B\",\"C\",\"D\",\"X\",\"Y\",\"Z\"]\n",
    "numbers = [str(i) for i in range(100)]"
   ]
  },
  {
   "cell_type": "markdown",
   "metadata": {},
   "source": [
    "Lets get index and other columns (e.g., A,B,C,D) lists that we want to populate in ```DataFrame```."
   ]
  },
  {
   "cell_type": "code",
   "execution_count": 30,
   "metadata": {},
   "outputs": [],
   "source": [
    "index = [random.choice(letters) + random.choice(numbers) for i in range (10)]\n",
    "A = [random.uniform(0,1)for i in range(10)]\n",
    "B = [random.uniform(0,1)for i in range(10)]\n",
    "C = [random.uniform(0,1)for i in range(10)]\n",
    "D = [random.uniform(0,1)for i in range(10)]"
   ]
  },
  {
   "cell_type": "markdown",
   "metadata": {},
   "source": [
    "We can create each column of ```DataFrame``` by providing the list of items and column names.The point to be noted is that, it does not automatically assign ```index```. One need to set index by implementing ```pandas.Dataframe.set_index('column-name')```. "
   ]
  },
  {
   "cell_type": "code",
   "execution_count": 32,
   "metadata": {},
   "outputs": [
    {
     "data": {
      "text/html": [
       "<div>\n",
       "<style scoped>\n",
       "    .dataframe tbody tr th:only-of-type {\n",
       "        vertical-align: middle;\n",
       "    }\n",
       "\n",
       "    .dataframe tbody tr th {\n",
       "        vertical-align: top;\n",
       "    }\n",
       "\n",
       "    .dataframe thead th {\n",
       "        text-align: right;\n",
       "    }\n",
       "</style>\n",
       "<table border=\"1\" class=\"dataframe\">\n",
       "  <thead>\n",
       "    <tr style=\"text-align: right;\">\n",
       "      <th></th>\n",
       "      <th>A</th>\n",
       "      <th>B</th>\n",
       "      <th>C</th>\n",
       "      <th>D</th>\n",
       "    </tr>\n",
       "    <tr>\n",
       "      <th>ID</th>\n",
       "      <th></th>\n",
       "      <th></th>\n",
       "      <th></th>\n",
       "      <th></th>\n",
       "    </tr>\n",
       "  </thead>\n",
       "  <tbody>\n",
       "    <tr>\n",
       "      <th>Z65</th>\n",
       "      <td>0.220402</td>\n",
       "      <td>0.370305</td>\n",
       "      <td>0.866337</td>\n",
       "      <td>0.342749</td>\n",
       "    </tr>\n",
       "    <tr>\n",
       "      <th>A37</th>\n",
       "      <td>0.291843</td>\n",
       "      <td>0.218648</td>\n",
       "      <td>0.324468</td>\n",
       "      <td>0.015307</td>\n",
       "    </tr>\n",
       "    <tr>\n",
       "      <th>Z48</th>\n",
       "      <td>0.607929</td>\n",
       "      <td>0.925458</td>\n",
       "      <td>0.829270</td>\n",
       "      <td>0.458777</td>\n",
       "    </tr>\n",
       "    <tr>\n",
       "      <th>Z70</th>\n",
       "      <td>0.881246</td>\n",
       "      <td>0.809939</td>\n",
       "      <td>0.611726</td>\n",
       "      <td>0.102013</td>\n",
       "    </tr>\n",
       "    <tr>\n",
       "      <th>C81</th>\n",
       "      <td>0.321069</td>\n",
       "      <td>0.824673</td>\n",
       "      <td>0.248596</td>\n",
       "      <td>0.820866</td>\n",
       "    </tr>\n",
       "  </tbody>\n",
       "</table>\n",
       "</div>"
      ],
      "text/plain": [
       "            A         B         C         D\n",
       "ID                                         \n",
       "Z65  0.220402  0.370305  0.866337  0.342749\n",
       "A37  0.291843  0.218648  0.324468  0.015307\n",
       "Z48  0.607929  0.925458  0.829270  0.458777\n",
       "Z70  0.881246  0.809939  0.611726  0.102013\n",
       "C81  0.321069  0.824673  0.248596  0.820866"
      ]
     },
     "execution_count": 32,
     "metadata": {},
     "output_type": "execute_result"
    }
   ],
   "source": [
    "df = pd.DataFrame()\n",
    "df['ID'],df['A'],df['B'],df['C'],df['D'] = index,A,B,C,D\n",
    "df = df.set_index(\"ID\")\n",
    "df.head()"
   ]
  },
  {
   "cell_type": "code",
   "execution_count": null,
   "metadata": {},
   "outputs": [],
   "source": []
  }
 ],
 "metadata": {
  "kernelspec": {
   "display_name": "Python 3",
   "language": "python",
   "name": "python3"
  },
  "language_info": {
   "codemirror_mode": {
    "name": "ipython",
    "version": 3
   },
   "file_extension": ".py",
   "mimetype": "text/x-python",
   "name": "python",
   "nbconvert_exporter": "python",
   "pygments_lexer": "ipython3",
   "version": "3.8.8"
  }
 },
 "nbformat": 4,
 "nbformat_minor": 2
}
