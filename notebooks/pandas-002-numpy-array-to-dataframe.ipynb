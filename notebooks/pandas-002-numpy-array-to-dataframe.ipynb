{
 "cells": [
  {
   "cell_type": "markdown",
   "metadata": {},
   "source": [
    "# How to create a pandas ```DataFrame``` from a Numpy array"
   ]
  },
  {
   "cell_type": "code",
   "execution_count": 2,
   "metadata": {},
   "outputs": [],
   "source": [
    "import pandas as pd\n",
    "import numpy as np"
   ]
  },
  {
   "cell_type": "markdown",
   "metadata": {},
   "source": [
    "Let's create a random array of size(100,20) and random column names. We will use these array and column names to create the ```DataFrame``` in next step."
   ]
  },
  {
   "cell_type": "code",
   "execution_count": 5,
   "metadata": {},
   "outputs": [],
   "source": [
    "import random as random\n",
    "A = np.random.rand(10,10)"
   ]
  },
  {
   "cell_type": "code",
   "execution_count": 6,
   "metadata": {},
   "outputs": [
    {
     "data": {
      "text/plain": [
       "array([[0.20787559, 0.15011882, 0.07775986, 0.50085556, 0.3914092 ,\n",
       "        0.5908682 , 0.86092171, 0.12377293, 0.78549164, 0.97544974],\n",
       "       [0.10995689, 0.65270126, 0.15047928, 0.53228979, 0.62903759,\n",
       "        0.98727112, 0.3915391 , 0.45565829, 0.77565827, 0.23650737],\n",
       "       [0.97124061, 0.79099321, 0.46062959, 0.92232374, 0.61109644,\n",
       "        0.52864854, 0.20534532, 0.9003085 , 0.30872595, 0.4513746 ],\n",
       "       [0.12708825, 0.8554662 , 0.23510558, 0.95610643, 0.98394679,\n",
       "        0.79950338, 0.1595377 , 0.46961659, 0.30723946, 0.25547347],\n",
       "       [0.24642563, 0.21571729, 0.74639224, 0.67911581, 0.14499415,\n",
       "        0.5776048 , 0.20486792, 0.65607865, 0.94141652, 0.57418481],\n",
       "       [0.39827408, 0.09295534, 0.52293606, 0.55181094, 0.36523925,\n",
       "        0.81989941, 0.95925993, 0.88689787, 0.55373276, 0.14605929],\n",
       "       [0.39033015, 0.10131502, 0.86913904, 0.2599803 , 0.07225785,\n",
       "        0.18092596, 0.50399003, 0.08823442, 0.44883741, 0.18075517],\n",
       "       [0.41275755, 0.01735399, 0.03947592, 0.42753539, 0.11125269,\n",
       "        0.88267368, 0.23279427, 0.72467738, 0.46147981, 0.41583617],\n",
       "       [0.26135607, 0.0441717 , 0.6006841 , 0.39318647, 0.20031456,\n",
       "        0.00657259, 0.61188824, 0.97400506, 0.34846363, 0.83650704],\n",
       "       [0.7450531 , 0.67544255, 0.21217648, 0.94599382, 0.66349386,\n",
       "        0.48474365, 0.34080695, 0.07632733, 0.56882808, 0.82818682]])"
      ]
     },
     "execution_count": 6,
     "metadata": {},
     "output_type": "execute_result"
    }
   ],
   "source": [
    "A"
   ]
  },
  {
   "cell_type": "code",
   "execution_count": 8,
   "metadata": {},
   "outputs": [],
   "source": [
    "col_names = [\"col1\",\"col2\",\"col3\",\"col4\",\"col5\",\"col6\",\"col7\",\"col8\",\"col9\",\"col10\"]"
   ]
  },
  {
   "cell_type": "code",
   "execution_count": 11,
   "metadata": {},
   "outputs": [],
   "source": [
    "index_names = [\"ind1\",\"ind2\",\"ind3\",\"ind4\",\"ind5\",\"ind1\",\"ind2\",\"ind3\",\"ind4\",\"ind5\"]"
   ]
  },
  {
   "cell_type": "code",
   "execution_count": 14,
   "metadata": {},
   "outputs": [
    {
     "data": {
      "text/html": [
       "<div>\n",
       "<style scoped>\n",
       "    .dataframe tbody tr th:only-of-type {\n",
       "        vertical-align: middle;\n",
       "    }\n",
       "\n",
       "    .dataframe tbody tr th {\n",
       "        vertical-align: top;\n",
       "    }\n",
       "\n",
       "    .dataframe thead th {\n",
       "        text-align: right;\n",
       "    }\n",
       "</style>\n",
       "<table border=\"1\" class=\"dataframe\">\n",
       "  <thead>\n",
       "    <tr style=\"text-align: right;\">\n",
       "      <th></th>\n",
       "      <th>col1</th>\n",
       "      <th>col2</th>\n",
       "      <th>col3</th>\n",
       "      <th>col4</th>\n",
       "      <th>col5</th>\n",
       "      <th>col6</th>\n",
       "      <th>col7</th>\n",
       "      <th>col8</th>\n",
       "      <th>col9</th>\n",
       "      <th>col10</th>\n",
       "    </tr>\n",
       "  </thead>\n",
       "  <tbody>\n",
       "    <tr>\n",
       "      <th>ind1</th>\n",
       "      <td>0.207876</td>\n",
       "      <td>0.150119</td>\n",
       "      <td>0.077760</td>\n",
       "      <td>0.500856</td>\n",
       "      <td>0.391409</td>\n",
       "      <td>0.590868</td>\n",
       "      <td>0.860922</td>\n",
       "      <td>0.123773</td>\n",
       "      <td>0.785492</td>\n",
       "      <td>0.975450</td>\n",
       "    </tr>\n",
       "    <tr>\n",
       "      <th>ind2</th>\n",
       "      <td>0.109957</td>\n",
       "      <td>0.652701</td>\n",
       "      <td>0.150479</td>\n",
       "      <td>0.532290</td>\n",
       "      <td>0.629038</td>\n",
       "      <td>0.987271</td>\n",
       "      <td>0.391539</td>\n",
       "      <td>0.455658</td>\n",
       "      <td>0.775658</td>\n",
       "      <td>0.236507</td>\n",
       "    </tr>\n",
       "    <tr>\n",
       "      <th>ind3</th>\n",
       "      <td>0.971241</td>\n",
       "      <td>0.790993</td>\n",
       "      <td>0.460630</td>\n",
       "      <td>0.922324</td>\n",
       "      <td>0.611096</td>\n",
       "      <td>0.528649</td>\n",
       "      <td>0.205345</td>\n",
       "      <td>0.900308</td>\n",
       "      <td>0.308726</td>\n",
       "      <td>0.451375</td>\n",
       "    </tr>\n",
       "    <tr>\n",
       "      <th>ind4</th>\n",
       "      <td>0.127088</td>\n",
       "      <td>0.855466</td>\n",
       "      <td>0.235106</td>\n",
       "      <td>0.956106</td>\n",
       "      <td>0.983947</td>\n",
       "      <td>0.799503</td>\n",
       "      <td>0.159538</td>\n",
       "      <td>0.469617</td>\n",
       "      <td>0.307239</td>\n",
       "      <td>0.255473</td>\n",
       "    </tr>\n",
       "    <tr>\n",
       "      <th>ind5</th>\n",
       "      <td>0.246426</td>\n",
       "      <td>0.215717</td>\n",
       "      <td>0.746392</td>\n",
       "      <td>0.679116</td>\n",
       "      <td>0.144994</td>\n",
       "      <td>0.577605</td>\n",
       "      <td>0.204868</td>\n",
       "      <td>0.656079</td>\n",
       "      <td>0.941417</td>\n",
       "      <td>0.574185</td>\n",
       "    </tr>\n",
       "    <tr>\n",
       "      <th>ind1</th>\n",
       "      <td>0.398274</td>\n",
       "      <td>0.092955</td>\n",
       "      <td>0.522936</td>\n",
       "      <td>0.551811</td>\n",
       "      <td>0.365239</td>\n",
       "      <td>0.819899</td>\n",
       "      <td>0.959260</td>\n",
       "      <td>0.886898</td>\n",
       "      <td>0.553733</td>\n",
       "      <td>0.146059</td>\n",
       "    </tr>\n",
       "    <tr>\n",
       "      <th>ind2</th>\n",
       "      <td>0.390330</td>\n",
       "      <td>0.101315</td>\n",
       "      <td>0.869139</td>\n",
       "      <td>0.259980</td>\n",
       "      <td>0.072258</td>\n",
       "      <td>0.180926</td>\n",
       "      <td>0.503990</td>\n",
       "      <td>0.088234</td>\n",
       "      <td>0.448837</td>\n",
       "      <td>0.180755</td>\n",
       "    </tr>\n",
       "    <tr>\n",
       "      <th>ind3</th>\n",
       "      <td>0.412758</td>\n",
       "      <td>0.017354</td>\n",
       "      <td>0.039476</td>\n",
       "      <td>0.427535</td>\n",
       "      <td>0.111253</td>\n",
       "      <td>0.882674</td>\n",
       "      <td>0.232794</td>\n",
       "      <td>0.724677</td>\n",
       "      <td>0.461480</td>\n",
       "      <td>0.415836</td>\n",
       "    </tr>\n",
       "    <tr>\n",
       "      <th>ind4</th>\n",
       "      <td>0.261356</td>\n",
       "      <td>0.044172</td>\n",
       "      <td>0.600684</td>\n",
       "      <td>0.393186</td>\n",
       "      <td>0.200315</td>\n",
       "      <td>0.006573</td>\n",
       "      <td>0.611888</td>\n",
       "      <td>0.974005</td>\n",
       "      <td>0.348464</td>\n",
       "      <td>0.836507</td>\n",
       "    </tr>\n",
       "    <tr>\n",
       "      <th>ind5</th>\n",
       "      <td>0.745053</td>\n",
       "      <td>0.675443</td>\n",
       "      <td>0.212176</td>\n",
       "      <td>0.945994</td>\n",
       "      <td>0.663494</td>\n",
       "      <td>0.484744</td>\n",
       "      <td>0.340807</td>\n",
       "      <td>0.076327</td>\n",
       "      <td>0.568828</td>\n",
       "      <td>0.828187</td>\n",
       "    </tr>\n",
       "  </tbody>\n",
       "</table>\n",
       "</div>"
      ],
      "text/plain": [
       "          col1      col2      col3      col4      col5      col6      col7  \\\n",
       "ind1  0.207876  0.150119  0.077760  0.500856  0.391409  0.590868  0.860922   \n",
       "ind2  0.109957  0.652701  0.150479  0.532290  0.629038  0.987271  0.391539   \n",
       "ind3  0.971241  0.790993  0.460630  0.922324  0.611096  0.528649  0.205345   \n",
       "ind4  0.127088  0.855466  0.235106  0.956106  0.983947  0.799503  0.159538   \n",
       "ind5  0.246426  0.215717  0.746392  0.679116  0.144994  0.577605  0.204868   \n",
       "ind1  0.398274  0.092955  0.522936  0.551811  0.365239  0.819899  0.959260   \n",
       "ind2  0.390330  0.101315  0.869139  0.259980  0.072258  0.180926  0.503990   \n",
       "ind3  0.412758  0.017354  0.039476  0.427535  0.111253  0.882674  0.232794   \n",
       "ind4  0.261356  0.044172  0.600684  0.393186  0.200315  0.006573  0.611888   \n",
       "ind5  0.745053  0.675443  0.212176  0.945994  0.663494  0.484744  0.340807   \n",
       "\n",
       "          col8      col9     col10  \n",
       "ind1  0.123773  0.785492  0.975450  \n",
       "ind2  0.455658  0.775658  0.236507  \n",
       "ind3  0.900308  0.308726  0.451375  \n",
       "ind4  0.469617  0.307239  0.255473  \n",
       "ind5  0.656079  0.941417  0.574185  \n",
       "ind1  0.886898  0.553733  0.146059  \n",
       "ind2  0.088234  0.448837  0.180755  \n",
       "ind3  0.724677  0.461480  0.415836  \n",
       "ind4  0.974005  0.348464  0.836507  \n",
       "ind5  0.076327  0.568828  0.828187  "
      ]
     },
     "execution_count": 14,
     "metadata": {},
     "output_type": "execute_result"
    }
   ],
   "source": [
    "df = pd.DataFrame(A, columns = col_names, index = index_names )\n",
    "df.head(10)"
   ]
  },
  {
   "cell_type": "markdown",
   "metadata": {},
   "source": [
    "### How to save data from ``` DataFrame``` to a ```CSV``` file?"
   ]
  },
  {
   "cell_type": "code",
   "execution_count": 19,
   "metadata": {},
   "outputs": [],
   "source": [
    "df.to_csv('data/test.csv')"
   ]
  }
 ],
 "metadata": {
  "kernelspec": {
   "display_name": "Python 3",
   "language": "python",
   "name": "python3"
  },
  "language_info": {
   "codemirror_mode": {
    "name": "ipython",
    "version": 3
   },
   "file_extension": ".py",
   "mimetype": "text/x-python",
   "name": "python",
   "nbconvert_exporter": "python",
   "pygments_lexer": "ipython3",
   "version": "3.8.8"
  }
 },
 "nbformat": 4,
 "nbformat_minor": 2
}
